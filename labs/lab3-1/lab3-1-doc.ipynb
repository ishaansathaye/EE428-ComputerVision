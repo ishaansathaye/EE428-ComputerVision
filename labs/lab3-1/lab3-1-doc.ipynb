{
 "cells": [
  {
   "cell_type": "markdown",
   "id": "ac06ba90",
   "metadata": {},
   "source": [
    "# Lab 3.1 Camera Calibration"
   ]
  },
  {
   "cell_type": "markdown",
   "id": "11f7083e",
   "metadata": {},
   "source": [
    "1. Look at some images or the live feed from your camera. Without making any measurements,\n",
    "what would you guess is the ﬁeld-of-view of your camera (along the larger dimension)?\n",
    "    - For my iphone 15 pro max, I would say the field-of-view is around 55 degrees, along the larger dimension.\n",
    "2. You can use the method of similar triangles to estimate the focal length of your camera (and from the focal length, the ﬁeld-of-view). If you know a) the size of an object, b) the distance to the object, and c) the apparent size of the object in the image, then you can calculate the focal length. Write down the formula for calculating the focal length in this manner. Then make measurements of some object (for example, a piece of paper, or a pencil) to estimate the focal length. Convert the focal length to ﬁeld-of-view using the formula presented in class. You will need to know the height and width of the camera image in pixels.\n",
    "    - The formula for calculating the focal length $f$ using similar triangles is:\n",
    "    $f = \\frac{d \\cdot p}{h}$\n",
    "    where:\n",
    "    - $d$ is the distance to the object,\n",
    "    - $p$ is the actual size of the object, and\n",
    "    - $h$ is the apparent size of the object in the image (in pixels).\n",
    "    - To estimate the focal length, I measured a piece of paper (A4 size, 210mm x 297mm) at a distance of 500mm. The apparent size of the paper in the image was approximately 200 pixels in height and 300 pixels in width. Using the formula:\n",
    "    - For height: \n",
    "      $f_h = \\frac{500 \\cdot 210}{200} = 525mm$\n",
    "    - For width:\n",
    "        $f_w = \\frac{500 \\cdot 297}{300} = 495mm$\n",
    "    - The average focal length is approximately $f \\approx 510mm$.\n",
    "    - To convert the focal length to field-of-view (FOV), I can use the formula in class:\n",
    "    $FOV = 2 \\cdot \\arctan\\left(\\frac{w}{2f}\\right)$\n",
    "    where:\n",
    "    - $w$ is the width of the camera image in pixels, and\n",
    "    - $f$ is the focal length in mm.\n",
    "    - Width of the camera image is 1920 pixels, the field-of-view can be calculated as:\n",
    "    - $FOV = 2 \\cdot \\arctan\\left(\\frac{1920}{2 \\cdot 510}\\right) \\approx 67.4$ degrees.\n",
    "3. Take images of a checkerboard calibration pattern with your camera. It works well to show the\n",
    "checkerboard on your laptop screen and take photos with your phone, or vice versa. Hold the\n",
    "checkerboard at diﬀerent angles and positions and take at least 12 images. Use the provided notebook to run OpenCV's camera calibration functionality and estimate the intrinsics parameters of your camera. (You can install OpenCV locally with pip install opencv-python or run the notebook in Google Colab which has OpenCV pre-installed.) Calculate the ﬁeld-of-view according to OpenCV's estimate of the focal length. Compare the results from the checkerboard calibration with your initial guess in step 1 and your manual procedure in step 2.\n",
    "    - After taking 12 images of a checkerboard pattern and running the OpenCV camera calibration, I obtained the following intrinsic parameters:\n",
    "    $\\begin{bmatrix}\n",
    "    3369.06 & 0 & 2880.40 \\\\\n",
    "    0 & 3369.06 & 2029.37 \\\\\n",
    "    0 & 0 & 1\n",
    "    \\end{bmatrix}$\n",
    "    - The focal length estimated by OpenCV is approximately 3369 pixels in both x and y directions.\n",
    "    - To calculate the field-of-view using OpenCV's estimate of the focal length, I can use the same formula as before:\n",
    "    $FOV = 2 \\cdot \\arctan\\left(\\frac{w}{2f}\\right)$\n",
    "    - Using the width of the camera image (5760 pixels) and the focal length (3369 pixels):\n",
    "    - $FOV = 2 \\cdot \\arctan\\left(\\frac{5760}{2 \\cdot 3369}\\right) \\approx 32.4$ degrees.\n",
    "    - Comparing the results:\n",
    "        - My initial guess was around 55 degrees.\n",
    "        - The manual procedure estimated a field-of-view of approximately 67.4 degrees.\n",
    "        - OpenCV's calibration estimated a field-of-view of approximately 32.4 degrees.\n",
    "    - The discrepancy between the manual procedure and OpenCV's calibration could be due to various factors such as lens distortion, camera settings, or inaccuracies in the measurements taken during the manual procedure."
   ]
  },
  {
   "cell_type": "markdown",
   "id": "33d66fb8",
   "metadata": {},
   "source": []
  }
 ],
 "metadata": {
  "language_info": {
   "name": "python"
  }
 },
 "nbformat": 4,
 "nbformat_minor": 5
}
