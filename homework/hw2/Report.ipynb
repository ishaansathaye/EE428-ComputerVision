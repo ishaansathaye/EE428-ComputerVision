{
 "cells": [
  {
   "cell_type": "markdown",
   "id": "cec5e5b6",
   "metadata": {},
   "source": [
    "# Homework 2 Report"
   ]
  },
  {
   "cell_type": "markdown",
   "id": "addfbb1e",
   "metadata": {},
   "source": [
    "## Code Explanation\n",
    "\n",
    "This solution implements a pinhole-camera and classical-image processing where each image is converted into grayscale and run through a Canny edge detector. The Hough Transform is performed to search over a radius range to find the ball's image circle. In the end, the overlay result is shown by drawing a 2D circle and annotating depth as with a scatter plot to visualize the ball's trajectory."
   ]
  },
  {
   "cell_type": "markdown",
   "id": "4bdb51ee",
   "metadata": {},
   "source": [
    "## Discussion Questions\n",
    "\n",
    "1. Does the ball detector seem accurate? Explain when it fails to detect the ball and hypothesize why it fails.\n",
    "    - The ball detector is pretty accurate for most cases. The times when it fails seems to be when the ball gets close to the camera or when the ball is moving very fast with 2 balls. It seems that large image radii introduce some irregularities in the Canny output. This most likely causes the Hough Transform to fall below the threshold for detection.\n",
    "\n",
    "2. Would it be possible to correctly rotate the 3D box according to the ball's orientation? Why or why not? If not, how could we physically modify the magic wand so that we could calculate the correct rotation of the box?\n",
    "    - In this case, it seems that the ball is very featureless and with the single camera, it would not be possible to get the spin of the ball. To get the orientation of the ball there would need to another camera or also another parameter such as light markers to get the orientation of the ball. The observed relative marker positions in the image can be used to solve for the 3D orientation of the ball."
   ]
  }
 ],
 "metadata": {
  "language_info": {
   "name": "python"
  }
 },
 "nbformat": 4,
 "nbformat_minor": 5
}
