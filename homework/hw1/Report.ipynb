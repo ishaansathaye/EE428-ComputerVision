{
 "cells": [
  {
   "cell_type": "markdown",
   "id": "cec5e5b6",
   "metadata": {},
   "source": [
    "# Homework 1 Report"
   ]
  },
  {
   "cell_type": "markdown",
   "id": "addfbb1e",
   "metadata": {},
   "source": [
    "## Code Explanation\n",
    "\n",
    "My solution reads the raw file, normalizes it into a float array and then applies demosaicing to convert the Bayer pattern into a full RGB image. It does white balancing, applies inverse gamma curve and writes the final image to a file in JPEG format. For debugging and for the comparison code, I used chatgpt to get some metrics to compare the ground truth output images to the one the pipeline produces."
   ]
  }
 ],
 "metadata": {
  "language_info": {
   "name": "python"
  }
 },
 "nbformat": 4,
 "nbformat_minor": 5
}
